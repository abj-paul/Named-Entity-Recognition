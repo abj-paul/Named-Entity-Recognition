{
 "cells": [
  {
   "cell_type": "code",
   "execution_count": 8,
   "id": "99a82b11-c686-4941-ad36-3b0f4e257666",
   "metadata": {
    "tags": []
   },
   "outputs": [
    {
     "name": "stdout",
     "output_type": "stream",
     "text": [
      "Keyring is skipped due to an exception: 'keyring.backends'\n",
      "Requirement already satisfied: bnlp_toolkit in /opt/conda/lib/python3.7/site-packages (3.2.0)\n",
      "Requirement already satisfied: nltk in /opt/conda/lib/python3.7/site-packages (from bnlp_toolkit) (3.7)\n",
      "Requirement already satisfied: wasabi in /opt/conda/lib/python3.7/site-packages (from bnlp_toolkit) (1.1.1)\n",
      "Requirement already satisfied: tqdm in /opt/conda/lib/python3.7/site-packages (from bnlp_toolkit) (4.42.1)\n",
      "Requirement already satisfied: scipy in /opt/conda/lib/python3.7/site-packages (from bnlp_toolkit) (1.4.1)\n",
      "Requirement already satisfied: gensim==4.0.1 in /opt/conda/lib/python3.7/site-packages (from bnlp_toolkit) (4.0.1)\n",
      "Requirement already satisfied: sentencepiece in /opt/conda/lib/python3.7/site-packages (from bnlp_toolkit) (0.1.97)\n",
      "Requirement already satisfied: sklearn-crfsuite in /opt/conda/lib/python3.7/site-packages (from bnlp_toolkit) (0.3.6)\n",
      "Requirement already satisfied: numpy in /opt/conda/lib/python3.7/site-packages (from bnlp_toolkit) (1.21.6)\n",
      "Requirement already satisfied: smart-open>=1.8.1 in /opt/conda/lib/python3.7/site-packages (from gensim==4.0.1->bnlp_toolkit) (6.3.0)\n",
      "Requirement already satisfied: joblib in /opt/conda/lib/python3.7/site-packages (from nltk->bnlp_toolkit) (0.14.1)\n",
      "Requirement already satisfied: regex>=2021.8.3 in /opt/conda/lib/python3.7/site-packages (from nltk->bnlp_toolkit) (2022.10.31)\n",
      "Requirement already satisfied: click in /opt/conda/lib/python3.7/site-packages (from nltk->bnlp_toolkit) (7.0)\n",
      "Requirement already satisfied: python-crfsuite>=0.8.3 in /opt/conda/lib/python3.7/site-packages (from sklearn-crfsuite->bnlp_toolkit) (0.9.8)\n",
      "Requirement already satisfied: six in /opt/conda/lib/python3.7/site-packages (from sklearn-crfsuite->bnlp_toolkit) (1.14.0)\n",
      "Requirement already satisfied: tabulate in /opt/conda/lib/python3.7/site-packages (from sklearn-crfsuite->bnlp_toolkit) (0.9.0)\n",
      "Requirement already satisfied: typing-extensions<4.5.0,>=3.7.4.1 in /opt/conda/lib/python3.7/site-packages (from wasabi->bnlp_toolkit) (4.4.0)\n",
      "\u001b[33mWARNING: Running pip as the 'root' user can result in broken permissions and conflicting behaviour with the system package manager. It is recommended to use a virtual environment instead: https://pip.pypa.io/warnings/venv\u001b[0m\u001b[33m\n",
      "\u001b[0m"
     ]
    }
   ],
   "source": [
    "! pip install bnlp_toolkit"
   ]
  },
  {
   "cell_type": "raw",
   "id": "722ea55a-3934-4594-976d-e25d8429f2c9",
   "metadata": {
    "tags": []
   },
   "source": [
    "!wget https://huggingface.co/sagorsarker/bangla_word2vec/resolve/main/bangla_word2vec_gen4.zip\n",
    "!unzip bangla_word2vec_gen4.zip\n",
    "!rm -rf bangla_word2vec_gen4.zip"
   ]
  },
  {
   "cell_type": "code",
   "execution_count": null,
   "id": "be5477b3-d300-4a77-bea1-800e540793c5",
   "metadata": {
    "tags": []
   },
   "outputs": [],
   "source": [
    "from bnlp import BengaliWord2Vec\n",
    "\n",
    "bwv = BengaliWord2Vec()\n",
    "model_path = \"bengali_word2vec.model\"\n",
    "word = 'গ্রাম'\n",
    "vector = bwv.generate_word_vector(model_path, word)\n",
    "print(vector.shape)\n",
    "print(vector)"
   ]
  }
 ],
 "metadata": {
  "instance_type": "ml.t3.medium",
  "kernelspec": {
   "display_name": "Python 3 (Data Science)",
   "language": "python",
   "name": "python3__SAGEMAKER_INTERNAL__arn:aws:sagemaker:us-east-1:081325390199:image/datascience-1.0"
  },
  "language_info": {
   "codemirror_mode": {
    "name": "ipython",
    "version": 3
   },
   "file_extension": ".py",
   "mimetype": "text/x-python",
   "name": "python",
   "nbconvert_exporter": "python",
   "pygments_lexer": "ipython3",
   "version": "3.7.10"
  }
 },
 "nbformat": 4,
 "nbformat_minor": 5
}
