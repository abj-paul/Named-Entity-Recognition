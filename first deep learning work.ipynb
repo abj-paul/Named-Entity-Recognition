{
 "cells": [
  {
   "cell_type": "code",
   "execution_count": null,
   "id": "586f2624-2e8e-48e7-b77a-28ef58ee597e",
   "metadata": {
    "tags": []
   },
   "outputs": [],
   "source": [
    "! pip install bnlp_toolkit"
   ]
  },
  {
   "cell_type": "code",
   "execution_count": null,
   "id": "6d49779a-62fc-4e0d-981c-0d5c3660d101",
   "metadata": {},
   "outputs": [],
   "source": [
    "!wget https://huggingface.co/sagorsarker/bangla_word2vec/resolve/main/bangla_word2vec_gen4.zip\n",
    "!unzip bangla_word2vec_gen4.zip\n",
    "!rm -rf bangla_word2vec_gen4.zip"
   ]
  },
  {
   "cell_type": "code",
   "execution_count": 1,
   "id": "620ac34f-0d99-4d1a-b4f8-eb7c70f4a693",
   "metadata": {
    "tags": []
   },
   "outputs": [
    {
     "name": "stderr",
     "output_type": "stream",
     "text": [
      "/opt/conda/lib/python3.7/site-packages/gensim/similarities/__init__.py:15: UserWarning: The gensim.similarities.levenshtein submodule is disabled, because the optional Levenshtein package <https://pypi.org/project/python-Levenshtein/> is unavailable. Install Levenhstein (e.g. `pip install python-Levenshtein`) to suppress this warning.\n",
      "  warnings.warn(msg)\n"
     ]
    },
    {
     "name": "stdout",
     "output_type": "stream",
     "text": [
      "[('জাতিগোষ্ঠী', 0.8225832581520081), ('জনগোষ্ঠী', 0.7949777841567993), ('নৃগোষ্ঠীর', 0.7799057364463806), ('জনজাতি', 0.7766873836517334), ('উপজাতি', 0.7757658362388611), ('সম্প্রদায়', 0.7619392275810242), ('জাতিগোষ্ঠীর', 0.7537362575531006), ('গোষ্ঠী', 0.7456576824188232), ('জাতিগতভাবে', 0.7268396615982056), ('উপজাতিরা', 0.7129496932029724)]\n"
     ]
    }
   ],
   "source": [
    "from bnlp import BengaliWord2Vec\n",
    "\n",
    "bwv = BengaliWord2Vec()\n",
    "model_path = \"bangla_word2vec/bnwiki_word2vec.model\"\n",
    "word = 'নৃগোষ্ঠী'\n",
    "similar = bwv.most_similar(model_path, word)\n",
    "print(similar)"
   ]
  },
  {
   "cell_type": "code",
   "execution_count": 5,
   "id": "6cd564e0-0238-4abe-95d0-e1718189037b",
   "metadata": {
    "tags": []
   },
   "outputs": [
    {
     "data": {
      "text/plain": [
       "array([ 2.3823591e-01,  6.1981279e-01, -1.9406676e-01,  4.1382647e-01,\n",
       "        6.7421144e-01,  1.4040026e-01,  1.6097938e+00, -6.3083977e-01,\n",
       "       -1.0239607e+00, -5.4499447e-02, -9.9497877e-02, -3.1477413e-01,\n",
       "        1.7324188e-01,  1.8793076e-01,  7.9062946e-02,  5.0363833e-01,\n",
       "        1.4413389e+00,  1.2055126e-01,  8.0126077e-02,  2.2117047e-01,\n",
       "       -3.6095098e-01, -5.7067740e-01,  2.4038902e-01, -9.4271898e-01,\n",
       "        5.5764532e-01, -2.8166807e-01,  4.3514800e-01,  3.5518160e-01,\n",
       "       -2.5896186e-01,  1.4379877e-01, -5.8390427e-01,  8.1498146e-01,\n",
       "        2.8396347e-01,  2.5972643e-01,  3.5667416e-01, -2.3208426e-01,\n",
       "       -1.1156581e-02,  2.1004668e-01, -3.4496439e-01,  7.1494210e-01,\n",
       "        6.2013745e-01, -1.5306453e+00,  1.2590113e-01,  4.3290872e-02,\n",
       "       -3.9522484e-01,  1.8227801e+00,  8.5033786e-01, -1.2005626e+00,\n",
       "       -7.1115762e-01,  1.8970840e-01,  5.3540075e-01,  1.1116323e+00,\n",
       "       -5.1466793e-01,  5.6390721e-01, -1.5165229e+00, -9.0429567e-02,\n",
       "        1.4358957e-01, -3.8269025e-01, -1.5105064e+00, -9.2643863e-01,\n",
       "       -8.5899025e-01,  4.8373476e-01, -3.3635952e-02, -7.3084569e-01,\n",
       "       -6.3448554e-01,  1.8308429e-02,  9.4611782e-01, -7.5829804e-01,\n",
       "       -2.3259158e-01, -7.2087711e-01,  5.7928681e-01, -2.3938294e-01,\n",
       "       -2.2777092e-01, -6.7970890e-01,  4.4408053e-01, -4.6670315e-01,\n",
       "       -4.1924629e-01,  6.4906335e-01, -4.2146298e-01,  1.8714193e-01,\n",
       "        1.0497658e+00, -1.9623742e-01,  2.3333059e-01,  2.2360820e-01,\n",
       "        8.3412647e-01, -2.4868779e-01,  3.6563972e-01,  3.4461522e-01,\n",
       "        9.5194888e-01,  5.9169716e-01, -4.5143899e-01, -1.6296060e-01,\n",
       "       -1.7266154e-03, -4.6493882e-01, -7.2363597e-01,  6.1634239e-02,\n",
       "        1.1612383e+00,  1.8179925e-01, -7.6578736e-02, -2.8469682e-01],\n",
       "      dtype=float32)"
      ]
     },
     "execution_count": 5,
     "metadata": {},
     "output_type": "execute_result"
    }
   ],
   "source": [
    "bwv = BengaliWord2Vec()\n",
    "model_path = \"bangla_word2vec/bnwiki_word2vec.model\"\n",
    "\n",
    "\n",
    "def vectorize_word(word):\n",
    "    return bwv.generate_word_vector(model_path, word)\n",
    "vectorize_word(\"নৃগোষ্ঠী\")"
   ]
  },
  {
   "cell_type": "markdown",
   "id": "30cf44cc-713d-453b-a6bf-131c54bc408d",
   "metadata": {},
   "source": [
    "### Preprocess Dataset"
   ]
  },
  {
   "cell_type": "code",
   "execution_count": 7,
   "id": "c54cf870-ae48-4d52-8b8e-7f2952eff8a5",
   "metadata": {
    "tags": []
   },
   "outputs": [
    {
     "name": "stdout",
     "output_type": "stream",
     "text": [
      "পর\n"
     ]
    }
   ],
   "source": [
    "import string\n",
    "def preprocess_word(word): ## hANDLE DARI ।\n",
    "  translate_table = dict((ord(char), None) for char in string.punctuation)   \n",
    "  word =  word.translate(translate_table)\n",
    "  return word.replace(\"।\", \"\")\n",
    "\n",
    "print(preprocess_word(\"পর,\"))"
   ]
  },
  {
   "cell_type": "code",
   "execution_count": 6,
   "id": "894e2fda-e342-4d7c-87ac-d88777b65021",
   "metadata": {
    "tags": []
   },
   "outputs": [],
   "source": [
    "def getDatasetFromIBOFile(filename): #nlp_hackathon_bd_2023/data/dev.txt\"\n",
    "    f = open(filename, \"r\")\n",
    "    content = f.read()\n",
    "    \n",
    "    lines = content.split(\"\\n\")\n",
    "    \n",
    "    dataset = []\n",
    "    for line in lines:\n",
    "        parts = line.split(\" _\")\n",
    "        word = parts[0]\n",
    "        word = preprocess_word(word)\n",
    "        label = parts[len(parts)-1]\n",
    "\n",
    "\n",
    "        # Special annoying cases\n",
    "        if word==\"ম্যাককম্ব\" or word=='' or word==\"ব্রাংম্যান\" or word=='ডাম্পসন': continue\n",
    "\n",
    "        dataset.append([word,label])\n",
    "    return dataset"
   ]
  },
  {
   "cell_type": "code",
   "execution_count": 10,
   "id": "29a3e6bf-12d9-4c53-8e5a-59199d0918c9",
   "metadata": {
    "tags": []
   },
   "outputs": [
    {
     "name": "stdout",
     "output_type": "stream",
     "text": [
      "[['তিনি', ' O'], ['যুবক', ' O'], ['হিসেবে', ' O'], ['শেফিল্ড', ' B-GRP'], ['বুধবার', ' I-GRP'], ['এফসি', ' I-GRP'], ['যোগদান', ' O'], ['করেন', ' O'], ['এবং', ' O'], ['১৯৫১', ' O']]\n"
     ]
    }
   ],
   "source": [
    "dataset = getDatasetFromIBOFile(\"nlp_hackathon_bd_2023/data/dev.txt\")[:10]\n",
    "print(dataset)"
   ]
  },
  {
   "cell_type": "code",
   "execution_count": 23,
   "id": "258b2932-da8b-423b-bfd6-7d64991d071e",
   "metadata": {
    "tags": []
   },
   "outputs": [
    {
     "name": "stdout",
     "output_type": "stream",
     "text": [
      "তিনি\n",
      "যুবক\n",
      "হিসেবে\n",
      "শেফিল্ড\n",
      "বুধবার\n",
      "এফসি\n",
      "যোগদান\n",
      "করেন\n",
      "এবং\n",
      "১৯৫১\n",
      "[array([-0.21369512,  1.2720889 ,  0.78394246, -2.5353067 ,  0.70979404,\n",
      "       -0.3082424 , -0.28302407,  0.17526327, -0.4677867 , -0.23012547,\n",
      "        1.1839812 ,  1.2347399 ,  0.8476198 , -3.815877  ,  2.8626287 ,\n",
      "        2.9732218 , -1.3276979 , -1.542447  , -0.8044625 , -1.925869  ,\n",
      "       -0.99790424,  0.75935733,  1.8084216 , -0.28349617, -0.49001718,\n",
      "       -0.6383842 , -4.571334  , -1.3964145 ,  2.1563919 ,  0.14717738,\n",
      "        1.6256268 ,  0.25503463,  0.40365434, -2.0705297 , -0.40934053,\n",
      "        2.0705292 , -0.45473403,  1.504822  , -0.2168148 , -0.3395806 ,\n",
      "       -0.7970744 ,  1.198225  ,  1.8894162 , -2.4942186 , -1.2899008 ,\n",
      "       -0.30772328,  0.77914166,  2.6397932 , -1.0555501 , -0.4113841 ,\n",
      "       -2.0590343 ,  2.959519  , -0.90373236,  2.4382393 , -0.3152419 ,\n",
      "        0.40070018, -2.8936412 ,  0.9645913 , -2.1191545 ,  1.2071471 ,\n",
      "        2.346445  ,  1.192887  ,  1.356194  ,  3.2484686 , -0.5101339 ,\n",
      "        2.2561193 , -0.06885063, -1.5336426 ,  0.87643063, -0.7444791 ,\n",
      "        1.6978998 ,  0.4713787 , -0.38452777, -0.3595946 ,  0.4308649 ,\n",
      "        0.09339103, -2.4015846 ,  2.064396  , -0.16214383, -1.4150993 ,\n",
      "        0.01339965,  0.28023818,  1.4169799 ,  2.8862154 , -0.50808066,\n",
      "        2.657439  , -2.1819766 ,  1.7436535 , -0.02381358, -1.2668259 ,\n",
      "       -2.2700138 ,  0.5890716 , -1.1535388 , -1.1602589 , -0.12063985,\n",
      "        2.0642376 ,  1.551903  ,  1.1705099 , -0.1271732 , -2.2991898 ],\n",
      "      dtype=float32), array([-0.8498525 ,  2.1341376 , -0.58821267, -0.79855496,  1.5006163 ,\n",
      "        1.1563861 ,  1.9176655 , -0.30595553, -1.2373077 , -2.1217332 ,\n",
      "        1.0426714 ,  1.19274   ,  0.27935183,  1.4998754 ,  1.4852889 ,\n",
      "        0.617195  ,  0.6372245 , -0.05169038, -1.5913498 , -0.25342914,\n",
      "       -0.21142216,  3.4096417 ,  1.3739948 , -2.0010476 , -1.5939506 ,\n",
      "        0.15239555,  0.51538306, -0.5773689 ,  0.33058247,  0.5350385 ,\n",
      "       -2.1345563 , -1.6167349 ,  1.5937973 , -1.9081011 , -0.39070293,\n",
      "        0.7473241 , -3.0345569 ,  1.1872846 , -0.6447976 ,  0.40302932,\n",
      "        1.1852646 ,  0.7781065 , -1.4082018 , -3.0926256 , -0.6085329 ,\n",
      "        2.5030541 ,  0.6228004 ,  1.6280625 , -2.1700327 ,  2.703964  ,\n",
      "       -0.6214036 , -0.34915975, -1.8642205 ,  3.0063965 , -0.48735407,\n",
      "       -0.6600848 ,  2.1227558 ,  1.0333703 ,  0.02767209, -0.30363622,\n",
      "        0.16899875, -1.2337064 , -0.26232103,  1.6940155 , -1.5577757 ,\n",
      "        2.1251993 ,  0.03186044, -0.6334958 ,  0.553871  ,  2.4749029 ,\n",
      "        0.12075184, -1.4398359 , -0.61608243, -0.33071464, -0.8939603 ,\n",
      "       -1.9016116 , -1.5908601 , -0.6433056 ,  0.10769478,  0.00803321,\n",
      "        1.2116897 , -3.427884  , -1.9050832 ,  0.62986773,  0.9017663 ,\n",
      "       -0.3426822 ,  0.16336311, -0.62137485,  0.153195  ,  1.176981  ,\n",
      "        0.35373464, -0.13650319, -0.841852  ,  0.8006917 , -0.25413775,\n",
      "        1.0131671 ,  0.43570077,  0.2834054 , -0.613633  , -1.5430487 ],\n",
      "      dtype=float32), array([ 3.321523  ,  2.2032301 , -2.0639968 , -0.6094159 ,  0.40296298,\n",
      "       -1.3595086 ,  0.99804837,  0.7274714 , -0.59307444,  2.9911623 ,\n",
      "        0.30058476, -0.25979674,  6.159118  ,  2.0866604 , -6.0467134 ,\n",
      "        1.5960723 ,  1.2624171 ,  6.8372083 , -1.4108194 , -3.4019055 ,\n",
      "       -6.3861976 , -0.9257816 ,  1.6181104 ,  0.29910287,  2.1822133 ,\n",
      "       -0.68783516, -5.302159  , -3.6593618 , -2.5184767 ,  1.0475572 ,\n",
      "        0.18054922,  0.55831194, -1.2107267 , -0.20517215, -1.485863  ,\n",
      "        2.1951697 ,  0.7200478 ,  4.5330896 , -0.5699556 , -0.94492006,\n",
      "       -2.8304965 ,  0.1600747 , -2.4378755 , -0.7031869 , -2.416637  ,\n",
      "       -1.7037231 ,  2.3389587 , -0.69855696, -0.75040394, -0.23876795,\n",
      "       -2.3384116 , -4.527821  , -0.39092866, -2.479295  ,  0.99473035,\n",
      "       -0.7350435 , -1.9740059 ,  1.6480556 ,  0.52176905,  0.9657036 ,\n",
      "       -1.0189378 , -4.177524  ,  4.577118  ,  2.7488813 , -0.04062311,\n",
      "        0.9414608 ,  0.12434363, -1.2819092 ,  0.24468474, -5.3886404 ,\n",
      "       -1.5942415 ,  4.359759  ,  1.9113919 , -4.206235  , -0.18024124,\n",
      "        3.845307  ,  0.00991402,  1.0665147 ,  2.4638913 , -2.908419  ,\n",
      "        3.111112  ,  4.8306637 ,  1.226632  ,  1.994441  , -0.03009948,\n",
      "       -3.562641  , -0.6335547 ,  2.7545176 , -1.6508116 , -0.8358363 ,\n",
      "        0.748759  ,  2.7271948 ,  2.7115192 , -1.7600815 , -0.29858986,\n",
      "        0.36016172, -1.1718451 ,  4.214818  , -2.7385142 ,  0.37748644],\n",
      "      dtype=float32), array([-0.93629164,  3.7337632 ,  0.87761086,  1.2331876 ,  2.009324  ,\n",
      "       -0.5213554 ,  0.08320393,  1.8503982 ,  0.2285429 , -0.9942903 ,\n",
      "       -1.6968797 ,  0.33449414,  1.0826484 , -3.006037  ,  1.803386  ,\n",
      "       -1.2842299 , -1.616434  , -1.4489595 ,  0.8259322 ,  0.05233043,\n",
      "       -1.9878339 , -0.8706926 , -3.8920352 ,  0.07192195, -0.8586118 ,\n",
      "       -0.11140625, -0.4436835 , -1.6482375 , -0.08896476, -1.2660782 ,\n",
      "        0.27700529, -1.0312624 ,  0.72199196,  2.6717458 ,  1.8876705 ,\n",
      "        1.7554604 ,  1.3949037 , -0.3800051 ,  1.6236441 , -0.8362792 ,\n",
      "       -2.1545644 ,  0.8497603 ,  2.572904  ,  0.36488438,  0.2768608 ,\n",
      "        0.50758344, -0.06419411,  1.7759004 , -1.4807297 ,  0.40481126,\n",
      "        0.767792  , -2.1190264 ,  0.6656521 ,  2.2888267 , -0.53675264,\n",
      "        0.6586151 ,  0.5765161 ,  2.6174335 ,  0.63868695, -0.19108257,\n",
      "       -1.2585652 ,  0.43362606, -1.6861266 ,  0.01491665, -0.3259488 ,\n",
      "       -1.8533317 ,  1.3165854 ,  1.0339671 ,  0.6145179 , -2.1905463 ,\n",
      "       -1.022852  , -0.78388375,  1.7516481 ,  0.5365947 ,  1.2428794 ,\n",
      "        1.3171483 ,  0.85281974,  0.25217977,  0.77402836, -1.0218638 ,\n",
      "       -0.18058616,  2.1382084 , -0.50913787,  0.3413889 ,  0.7648456 ,\n",
      "        0.09663257,  0.6893419 ,  4.025524  ,  1.172027  ,  0.28406155,\n",
      "        2.351717  , -0.21686569, -0.85014766, -1.4969913 ,  1.8797088 ,\n",
      "        0.47063345, -0.7515203 , -0.8936886 ,  2.1275826 , -0.8279198 ],\n",
      "      dtype=float32), array([-0.05356982, -1.423888  ,  0.2788191 , -0.31463453,  0.32846376,\n",
      "       -1.1054395 , -1.572878  ,  1.2840602 ,  0.4916759 ,  0.07616021,\n",
      "        0.59757805,  0.06973556, -0.06962318, -0.16867338,  2.6408079 ,\n",
      "       -0.44238082, -0.08354607, -0.413732  , -1.0806165 , -0.5360468 ,\n",
      "       -1.4631462 ,  0.39416355,  0.7592785 , -0.67061   , -0.24806845,\n",
      "       -0.29303822,  0.8057826 , -0.48824129,  0.42541263, -0.54871684,\n",
      "        0.38702378, -0.29818076, -0.42305863, -0.54779774, -0.6602606 ,\n",
      "       -1.3404264 ,  0.3669318 ,  0.7450887 ,  1.035073  , -0.5287876 ,\n",
      "        1.4582491 ,  1.1710124 ,  1.5806957 ,  0.27784127, -0.12101974,\n",
      "       -1.4257427 ,  1.5797548 , -0.6734766 ,  1.2806859 , -0.04461702,\n",
      "       -0.8868542 ,  0.4392522 ,  0.16352504,  1.1686943 , -1.503334  ,\n",
      "        0.7578893 ,  0.5948683 ,  1.1245769 ,  0.6874981 ,  0.26808494,\n",
      "       -0.39942166, -0.28816566, -0.41803378, -0.774978  , -0.3900193 ,\n",
      "        2.485616  , -0.29055566,  1.0521729 ,  0.46484867, -0.17190164,\n",
      "       -1.7363408 , -1.297489  ,  0.6507607 ,  0.81390244, -1.1986692 ,\n",
      "       -1.3987952 ,  0.09671808, -0.65674907,  0.6104516 ,  0.415037  ,\n",
      "        0.74670005, -0.37089315,  0.39825115,  0.21676354,  1.0328605 ,\n",
      "        0.26103824, -0.67418903, -0.2921653 ,  1.7434883 ,  1.3330115 ,\n",
      "       -0.07712122, -0.33378816,  0.14357033,  0.4913684 ,  0.0195039 ,\n",
      "       -0.45188627,  1.1156855 , -0.03703988, -0.2615501 ,  0.41623586],\n",
      "      dtype=float32)]\n",
      "[' O', ' O', ' O', ' B-GRP', ' I-GRP']\n"
     ]
    }
   ],
   "source": [
    "X = []\n",
    "Y = []\n",
    "for row in dataset:\n",
    "  word = row[0]\n",
    "  label = row[1]\n",
    "\n",
    "  print(word)\n",
    "\n",
    "  X.append(vectorize_word(word))\n",
    "  Y.append(label)\n",
    "\n",
    "print(X[:5])\n",
    "print(Y[:5])"
   ]
  },
  {
   "cell_type": "code",
   "execution_count": 32,
   "id": "fa42ce1f-93e4-4750-9d63-14113f1cb768",
   "metadata": {
    "tags": []
   },
   "outputs": [
    {
     "data": {
      "text/plain": [
       "[0, 0, 0, 3, 4, 4, 0, 0, 0, 0]"
      ]
     },
     "execution_count": 32,
     "metadata": {},
     "output_type": "execute_result"
    }
   ],
   "source": [
    "def encodeClass(Y):\n",
    "    classes = []\n",
    "    classes = [val for val in Y if val not in classes]\n",
    "    \n",
    "    new_y = []\n",
    "    for cls in Y:\n",
    "        for idx, val in enumerate(classes):\n",
    "            if cls==val:\n",
    "                new_y.append(idx)\n",
    "                break\n",
    "    return new_y\n",
    "                \n",
    "encodeClass(Y)"
   ]
  },
  {
   "cell_type": "code",
   "execution_count": 33,
   "id": "3cd2ef25-6498-432f-a15b-7783bd5933fa",
   "metadata": {
    "tags": []
   },
   "outputs": [],
   "source": [
    "Y = encodeClass(Y)"
   ]
  },
  {
   "cell_type": "markdown",
   "id": "e73cc5be-5807-4428-b746-92974a85da0b",
   "metadata": {},
   "source": [
    "### Model!"
   ]
  },
  {
   "cell_type": "code",
   "execution_count": 19,
   "id": "db33536b-aa7d-4ece-a14d-abf6e65403b3",
   "metadata": {
    "tags": []
   },
   "outputs": [],
   "source": [
    "import numpy as np\n",
    "import random\n",
    "\n",
    "import numpy as np\n",
    "from random import randint\n",
    "from sklearn.utils import shuffle\n",
    "from sklearn.preprocessing import MinMaxScaler"
   ]
  },
  {
   "cell_type": "code",
   "execution_count": 39,
   "id": "49339334-79f4-4f85-8afc-4fdf11d15219",
   "metadata": {
    "tags": []
   },
   "outputs": [],
   "source": [
    "Y = np.array(Y)\n",
    "X = np.array(X)"
   ]
  },
  {
   "cell_type": "code",
   "execution_count": 26,
   "id": "ec4f98da-a5ef-4e4b-8bb2-8cef29faf902",
   "metadata": {
    "tags": []
   },
   "outputs": [],
   "source": [
    "from tensorflow.keras.models import Sequential\n",
    "from tensorflow.keras.layers import Activation, Dense\n",
    "from tensorflow.keras.optimizers import Adam\n",
    "from tensorflow.keras.metrics import categorical_crossentropy"
   ]
  },
  {
   "cell_type": "code",
   "execution_count": 53,
   "id": "38cd6759-89aa-4ade-bcc3-4fbe8b3e4df8",
   "metadata": {
    "tags": []
   },
   "outputs": [],
   "source": [
    "model = Sequential([\n",
    "    Dense(units=16, input_shape=(100, ), activation='relu'),\n",
    "    Dense(units=32, activation='relu'),\n",
    "    Dense(units=5, activation='softmax')\n",
    "])"
   ]
  },
  {
   "cell_type": "code",
   "execution_count": 54,
   "id": "e27f506b-1faa-4f0a-9c3c-9fa99996225f",
   "metadata": {
    "tags": []
   },
   "outputs": [
    {
     "name": "stdout",
     "output_type": "stream",
     "text": [
      "Model: \"sequential_6\"\n",
      "_________________________________________________________________\n",
      " Layer (type)                Output Shape              Param #   \n",
      "=================================================================\n",
      " dense_18 (Dense)            (None, 16)                1616      \n",
      "                                                                 \n",
      " dense_19 (Dense)            (None, 32)                544       \n",
      "                                                                 \n",
      " dense_20 (Dense)            (None, 5)                 165       \n",
      "                                                                 \n",
      "=================================================================\n",
      "Total params: 2,325\n",
      "Trainable params: 2,325\n",
      "Non-trainable params: 0\n",
      "_________________________________________________________________\n"
     ]
    }
   ],
   "source": [
    "model.summary()"
   ]
  },
  {
   "cell_type": "code",
   "execution_count": 55,
   "id": "1157e4c1-6ac8-44c3-a3b2-3dcadc87f1ed",
   "metadata": {
    "tags": []
   },
   "outputs": [],
   "source": [
    "model.compile(optimizer=Adam(learning_rate=0.0001), loss='sparse_categorical_crossentropy', metrics=['accuracy'])"
   ]
  },
  {
   "cell_type": "code",
   "execution_count": 56,
   "id": "8e69d751-fcd5-4462-9b28-535f7fbb4c1e",
   "metadata": {
    "tags": []
   },
   "outputs": [
    {
     "name": "stdout",
     "output_type": "stream",
     "text": [
      "Epoch 1/30\n",
      "1/1 - 1s - loss: 3.7754 - accuracy: 0.0000e+00 - 720ms/epoch - 720ms/step\n",
      "Epoch 2/30\n",
      "1/1 - 0s - loss: 3.7515 - accuracy: 0.0000e+00 - 5ms/epoch - 5ms/step\n",
      "Epoch 3/30\n",
      "1/1 - 0s - loss: 3.7277 - accuracy: 0.0000e+00 - 6ms/epoch - 6ms/step\n",
      "Epoch 4/30\n",
      "1/1 - 0s - loss: 3.7040 - accuracy: 0.0000e+00 - 5ms/epoch - 5ms/step\n",
      "Epoch 5/30\n",
      "1/1 - 0s - loss: 3.6804 - accuracy: 0.0000e+00 - 5ms/epoch - 5ms/step\n",
      "Epoch 6/30\n",
      "1/1 - 0s - loss: 3.6568 - accuracy: 0.0000e+00 - 5ms/epoch - 5ms/step\n",
      "Epoch 7/30\n",
      "1/1 - 0s - loss: 3.6334 - accuracy: 0.0000e+00 - 4ms/epoch - 4ms/step\n",
      "Epoch 8/30\n",
      "1/1 - 0s - loss: 3.6100 - accuracy: 0.0000e+00 - 5ms/epoch - 5ms/step\n",
      "Epoch 9/30\n",
      "1/1 - 0s - loss: 3.5867 - accuracy: 0.0000e+00 - 5ms/epoch - 5ms/step\n",
      "Epoch 10/30\n",
      "1/1 - 0s - loss: 3.5635 - accuracy: 0.0000e+00 - 6ms/epoch - 6ms/step\n",
      "Epoch 11/30\n",
      "1/1 - 0s - loss: 3.5404 - accuracy: 0.0000e+00 - 5ms/epoch - 5ms/step\n",
      "Epoch 12/30\n",
      "1/1 - 0s - loss: 3.5174 - accuracy: 0.0000e+00 - 5ms/epoch - 5ms/step\n",
      "Epoch 13/30\n",
      "1/1 - 0s - loss: 3.4947 - accuracy: 0.0000e+00 - 5ms/epoch - 5ms/step\n",
      "Epoch 14/30\n",
      "1/1 - 0s - loss: 3.4720 - accuracy: 0.0000e+00 - 5ms/epoch - 5ms/step\n",
      "Epoch 15/30\n",
      "1/1 - 0s - loss: 3.4494 - accuracy: 0.0000e+00 - 5ms/epoch - 5ms/step\n",
      "Epoch 16/30\n",
      "1/1 - 0s - loss: 3.4270 - accuracy: 0.0000e+00 - 5ms/epoch - 5ms/step\n",
      "Epoch 17/30\n",
      "1/1 - 0s - loss: 3.4047 - accuracy: 0.0000e+00 - 5ms/epoch - 5ms/step\n",
      "Epoch 18/30\n",
      "1/1 - 0s - loss: 3.3824 - accuracy: 0.0000e+00 - 5ms/epoch - 5ms/step\n",
      "Epoch 19/30\n",
      "1/1 - 0s - loss: 3.3601 - accuracy: 0.0000e+00 - 5ms/epoch - 5ms/step\n",
      "Epoch 20/30\n",
      "1/1 - 0s - loss: 3.3380 - accuracy: 0.0000e+00 - 4ms/epoch - 4ms/step\n",
      "Epoch 21/30\n",
      "1/1 - 0s - loss: 3.3160 - accuracy: 0.0000e+00 - 5ms/epoch - 5ms/step\n",
      "Epoch 22/30\n",
      "1/1 - 0s - loss: 3.2940 - accuracy: 0.0000e+00 - 5ms/epoch - 5ms/step\n",
      "Epoch 23/30\n",
      "1/1 - 0s - loss: 3.2721 - accuracy: 0.0000e+00 - 6ms/epoch - 6ms/step\n",
      "Epoch 24/30\n",
      "1/1 - 0s - loss: 3.2503 - accuracy: 0.0000e+00 - 5ms/epoch - 5ms/step\n",
      "Epoch 25/30\n",
      "1/1 - 0s - loss: 3.2285 - accuracy: 0.0000e+00 - 5ms/epoch - 5ms/step\n",
      "Epoch 26/30\n",
      "1/1 - 0s - loss: 3.2071 - accuracy: 0.0000e+00 - 5ms/epoch - 5ms/step\n",
      "Epoch 27/30\n",
      "1/1 - 0s - loss: 3.1857 - accuracy: 0.0000e+00 - 5ms/epoch - 5ms/step\n",
      "Epoch 28/30\n",
      "1/1 - 0s - loss: 3.1644 - accuracy: 0.0000e+00 - 5ms/epoch - 5ms/step\n",
      "Epoch 29/30\n",
      "1/1 - 0s - loss: 3.1432 - accuracy: 0.0000e+00 - 5ms/epoch - 5ms/step\n",
      "Epoch 30/30\n",
      "1/1 - 0s - loss: 3.1220 - accuracy: 0.0000e+00 - 5ms/epoch - 5ms/step\n"
     ]
    },
    {
     "data": {
      "text/plain": [
       "<keras.callbacks.History at 0x7fc0ab4dfe90>"
      ]
     },
     "execution_count": 56,
     "metadata": {},
     "output_type": "execute_result"
    }
   ],
   "source": [
    "model.fit(x=X, y=Y, batch_size=10, epochs=30, verbose=2)"
   ]
  }
 ],
 "metadata": {
  "instance_type": "ml.t3.medium",
  "kernelspec": {
   "display_name": "Python 3 (Data Science)",
   "language": "python",
   "name": "python3__SAGEMAKER_INTERNAL__arn:aws:sagemaker:us-east-1:081325390199:image/datascience-1.0"
  },
  "language_info": {
   "codemirror_mode": {
    "name": "ipython",
    "version": 3
   },
   "file_extension": ".py",
   "mimetype": "text/x-python",
   "name": "python",
   "nbconvert_exporter": "python",
   "pygments_lexer": "ipython3",
   "version": "3.7.10"
  }
 },
 "nbformat": 4,
 "nbformat_minor": 5
}
